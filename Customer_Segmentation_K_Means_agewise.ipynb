{
  "nbformat": 4,
  "nbformat_minor": 0,
  "metadata": {
    "colab": {
      "name": "Customer Segmentation using K-Means.ipynb",
      "provenance": [],
      "toc_visible": true
    },
    "kernelspec": {
      "name": "python3",
      "display_name": "Python 3"
    },
    "language_info": {
      "name": "python"
    }
  },
  "cells": [
    {
      "cell_type": "code",
      "metadata": {
        "id": "9iq3y3xON15L"
      },
      "source": [
        "import numpy as np\n",
        "import pandas as pd\n",
        "import matplotlib.pyplot as plt\n",
        "import seaborn as sns\n",
        "from sklearn.cluster import KMeans"
      ],
      "execution_count": 1,
      "outputs": []
    },
    {
      "cell_type": "markdown",
      "metadata": {
        "id": "6atYY31x8iZe"
      },
      "source": [
        "Retrieving Data."
      ]
    },
    {
      "cell_type": "code",
      "metadata": {
        "id": "co5SgGpb8kKm"
      },
      "source": [
        "# loading the data from csv file to a Pandas DataFrame\n",
        "customer_data = pd.read_csv('/content/Mall_Customers.csv')"
      ],
      "execution_count": 3,
      "outputs": []
    },
    {
      "cell_type": "code",
      "metadata": {
        "colab": {
          "base_uri": "https://localhost:8080/",
          "height": 195
        },
        "id": "kJ6dMH3-8rx-",
        "outputId": "787768ac-46d8-4d3d-fa8e-c33aca6b27a8"
      },
      "source": [
        "# first 5 rows in the dataframe\n",
        "customer_data.head()"
      ],
      "execution_count": 5,
      "outputs": [
        {
          "output_type": "execute_result",
          "data": {
            "text/html": [
              "<div>\n",
              "<style scoped>\n",
              "    .dataframe tbody tr th:only-of-type {\n",
              "        vertical-align: middle;\n",
              "    }\n",
              "\n",
              "    .dataframe tbody tr th {\n",
              "        vertical-align: top;\n",
              "    }\n",
              "\n",
              "    .dataframe thead th {\n",
              "        text-align: right;\n",
              "    }\n",
              "</style>\n",
              "<table border=\"1\" class=\"dataframe\">\n",
              "  <thead>\n",
              "    <tr style=\"text-align: right;\">\n",
              "      <th></th>\n",
              "      <th>CustomerID</th>\n",
              "      <th>Gender</th>\n",
              "      <th>Age</th>\n",
              "      <th>Annual Income (k$)</th>\n",
              "      <th>Spending Score (1-100)</th>\n",
              "    </tr>\n",
              "  </thead>\n",
              "  <tbody>\n",
              "    <tr>\n",
              "      <th>0</th>\n",
              "      <td>1</td>\n",
              "      <td>Male</td>\n",
              "      <td>19</td>\n",
              "      <td>15</td>\n",
              "      <td>39</td>\n",
              "    </tr>\n",
              "    <tr>\n",
              "      <th>1</th>\n",
              "      <td>2</td>\n",
              "      <td>Male</td>\n",
              "      <td>21</td>\n",
              "      <td>15</td>\n",
              "      <td>81</td>\n",
              "    </tr>\n",
              "    <tr>\n",
              "      <th>2</th>\n",
              "      <td>3</td>\n",
              "      <td>Female</td>\n",
              "      <td>20</td>\n",
              "      <td>16</td>\n",
              "      <td>6</td>\n",
              "    </tr>\n",
              "    <tr>\n",
              "      <th>3</th>\n",
              "      <td>4</td>\n",
              "      <td>Female</td>\n",
              "      <td>23</td>\n",
              "      <td>16</td>\n",
              "      <td>77</td>\n",
              "    </tr>\n",
              "    <tr>\n",
              "      <th>4</th>\n",
              "      <td>5</td>\n",
              "      <td>Female</td>\n",
              "      <td>31</td>\n",
              "      <td>17</td>\n",
              "      <td>40</td>\n",
              "    </tr>\n",
              "  </tbody>\n",
              "</table>\n",
              "</div>"
            ],
            "text/plain": [
              "   CustomerID  Gender  Age  Annual Income (k$)  Spending Score (1-100)\n",
              "0           1    Male   19                  15                      39\n",
              "1           2    Male   21                  15                      81\n",
              "2           3  Female   20                  16                       6\n",
              "3           4  Female   23                  16                      77\n",
              "4           5  Female   31                  17                      40"
            ]
          },
          "metadata": {
            "tags": []
          },
          "execution_count": 5
        }
      ]
    },
    {
      "cell_type": "code",
      "metadata": {
        "colab": {
          "base_uri": "https://localhost:8080/"
        },
        "id": "YkaukzxD8yNG",
        "outputId": "8de12282-bf97-4be9-af74-9fa7b36be579"
      },
      "source": [
        "# finding the number of rows and columns\n",
        "customer_data.shape"
      ],
      "execution_count": 6,
      "outputs": [
        {
          "output_type": "execute_result",
          "data": {
            "text/plain": [
              "(200, 5)"
            ]
          },
          "metadata": {
            "tags": []
          },
          "execution_count": 6
        }
      ]
    },
    {
      "cell_type": "code",
      "metadata": {
        "colab": {
          "base_uri": "https://localhost:8080/"
        },
        "id": "hmbjfBHD81P2",
        "outputId": "a58341dd-5077-4b54-ea67-5368cbe09478"
      },
      "source": [
        "# Checking if any null values\n",
        "customer_data.isnull().sum()"
      ],
      "execution_count": 8,
      "outputs": [
        {
          "output_type": "execute_result",
          "data": {
            "text/plain": [
              "CustomerID                0\n",
              "Gender                    0\n",
              "Age                       0\n",
              "Annual Income (k$)        0\n",
              "Spending Score (1-100)    0\n",
              "dtype: int64"
            ]
          },
          "metadata": {
            "tags": []
          },
          "execution_count": 8
        }
      ]
    },
    {
      "cell_type": "markdown",
      "metadata": {
        "id": "WpvmI_5V8_Vu"
      },
      "source": [
        "Choosing the Annual Income Column & Spending Score column"
      ]
    },
    {
      "cell_type": "code",
      "metadata": {
        "colab": {
          "base_uri": "https://localhost:8080/"
        },
        "id": "ZEd8g2CP8_zo",
        "outputId": "cb1cfa4b-aebe-4b21-f077-db55fabbb88d"
      },
      "source": [
        "X = customer_data.iloc[:, np.r_[2, 4]].values\n",
        "print(X)"
      ],
      "execution_count": 15,
      "outputs": [
        {
          "output_type": "stream",
          "text": [
            "[[19 39]\n",
            " [21 81]\n",
            " [20  6]\n",
            " [23 77]\n",
            " [31 40]\n",
            " [22 76]\n",
            " [35  6]\n",
            " [23 94]\n",
            " [64  3]\n",
            " [30 72]\n",
            " [67 14]\n",
            " [35 99]\n",
            " [58 15]\n",
            " [24 77]\n",
            " [37 13]\n",
            " [22 79]\n",
            " [35 35]\n",
            " [20 66]\n",
            " [52 29]\n",
            " [35 98]\n",
            " [35 35]\n",
            " [25 73]\n",
            " [46  5]\n",
            " [31 73]\n",
            " [54 14]\n",
            " [29 82]\n",
            " [45 32]\n",
            " [35 61]\n",
            " [40 31]\n",
            " [23 87]\n",
            " [60  4]\n",
            " [21 73]\n",
            " [53  4]\n",
            " [18 92]\n",
            " [49 14]\n",
            " [21 81]\n",
            " [42 17]\n",
            " [30 73]\n",
            " [36 26]\n",
            " [20 75]\n",
            " [65 35]\n",
            " [24 92]\n",
            " [48 36]\n",
            " [31 61]\n",
            " [49 28]\n",
            " [24 65]\n",
            " [50 55]\n",
            " [27 47]\n",
            " [29 42]\n",
            " [31 42]\n",
            " [49 52]\n",
            " [33 60]\n",
            " [31 54]\n",
            " [59 60]\n",
            " [50 45]\n",
            " [47 41]\n",
            " [51 50]\n",
            " [69 46]\n",
            " [27 51]\n",
            " [53 46]\n",
            " [70 56]\n",
            " [19 55]\n",
            " [67 52]\n",
            " [54 59]\n",
            " [63 51]\n",
            " [18 59]\n",
            " [43 50]\n",
            " [68 48]\n",
            " [19 59]\n",
            " [32 47]\n",
            " [70 55]\n",
            " [47 42]\n",
            " [60 49]\n",
            " [60 56]\n",
            " [59 47]\n",
            " [26 54]\n",
            " [45 53]\n",
            " [40 48]\n",
            " [23 52]\n",
            " [49 42]\n",
            " [57 51]\n",
            " [38 55]\n",
            " [67 41]\n",
            " [46 44]\n",
            " [21 57]\n",
            " [48 46]\n",
            " [55 58]\n",
            " [22 55]\n",
            " [34 60]\n",
            " [50 46]\n",
            " [68 55]\n",
            " [18 41]\n",
            " [48 49]\n",
            " [40 40]\n",
            " [32 42]\n",
            " [24 52]\n",
            " [47 47]\n",
            " [27 50]\n",
            " [48 42]\n",
            " [20 49]\n",
            " [23 41]\n",
            " [49 48]\n",
            " [67 59]\n",
            " [26 55]\n",
            " [49 56]\n",
            " [21 42]\n",
            " [66 50]\n",
            " [54 46]\n",
            " [68 43]\n",
            " [66 48]\n",
            " [65 52]\n",
            " [19 54]\n",
            " [38 42]\n",
            " [19 46]\n",
            " [18 48]\n",
            " [19 50]\n",
            " [63 43]\n",
            " [49 59]\n",
            " [51 43]\n",
            " [50 57]\n",
            " [27 56]\n",
            " [38 40]\n",
            " [40 58]\n",
            " [39 91]\n",
            " [23 29]\n",
            " [31 77]\n",
            " [43 35]\n",
            " [40 95]\n",
            " [59 11]\n",
            " [38 75]\n",
            " [47  9]\n",
            " [39 75]\n",
            " [25 34]\n",
            " [31 71]\n",
            " [20  5]\n",
            " [29 88]\n",
            " [44  7]\n",
            " [32 73]\n",
            " [19 10]\n",
            " [35 72]\n",
            " [57  5]\n",
            " [32 93]\n",
            " [28 40]\n",
            " [32 87]\n",
            " [25 12]\n",
            " [28 97]\n",
            " [48 36]\n",
            " [32 74]\n",
            " [34 22]\n",
            " [34 90]\n",
            " [43 17]\n",
            " [39 88]\n",
            " [44 20]\n",
            " [38 76]\n",
            " [47 16]\n",
            " [27 89]\n",
            " [37  1]\n",
            " [30 78]\n",
            " [34  1]\n",
            " [30 73]\n",
            " [56 35]\n",
            " [29 83]\n",
            " [19  5]\n",
            " [31 93]\n",
            " [50 26]\n",
            " [36 75]\n",
            " [42 20]\n",
            " [33 95]\n",
            " [36 27]\n",
            " [32 63]\n",
            " [40 13]\n",
            " [28 75]\n",
            " [36 10]\n",
            " [36 92]\n",
            " [52 13]\n",
            " [30 86]\n",
            " [58 15]\n",
            " [27 69]\n",
            " [59 14]\n",
            " [35 90]\n",
            " [37 32]\n",
            " [32 86]\n",
            " [46 15]\n",
            " [29 88]\n",
            " [41 39]\n",
            " [30 97]\n",
            " [54 24]\n",
            " [28 68]\n",
            " [41 17]\n",
            " [36 85]\n",
            " [34 23]\n",
            " [32 69]\n",
            " [33  8]\n",
            " [38 91]\n",
            " [47 16]\n",
            " [35 79]\n",
            " [45 28]\n",
            " [32 74]\n",
            " [32 18]\n",
            " [30 83]]\n"
          ],
          "name": "stdout"
        }
      ]
    },
    {
      "cell_type": "markdown",
      "metadata": {
        "id": "Sya8m0dr9Emn"
      },
      "source": [
        "Choosing Number of Clusters using WCSS (Elbow Method)"
      ]
    },
    {
      "cell_type": "code",
      "metadata": {
        "id": "m2Qk34nk9Jgf"
      },
      "source": [
        "wcss = []\n",
        "\n",
        "for i in range(1,11):\n",
        "  kmeans = KMeans(n_clusters=i, init='k-means++', random_state=28)\n",
        "  kmeans.fit(X)\n",
        "\n",
        "  wcss.append(kmeans.inertia_)\n",
        "\n",
        "  #k-means++ : selects initial cluster centers for k-mean clustering in a smart way to speed up convergence.\n",
        "  # random   : choose n_clusters observations (rows) at random from data for the initial centroids.\n",
        "  # inertia  : algo clusters the data using a criterion. lower values are better and zero is optimal for inertia"
      ],
      "execution_count": 17,
      "outputs": []
    },
    {
      "cell_type": "code",
      "metadata": {
        "colab": {
          "base_uri": "https://localhost:8080/",
          "height": 301
        },
        "id": "_DWKNORc9MwP",
        "outputId": "1d50944e-fce3-45e9-fbd1-2830f7790e79"
      },
      "source": [
        "# plot an elbow graph\n",
        "\n",
        "sns.set()\n",
        "plt.plot(range(1,11), wcss)\n",
        "plt.title('The Elbow Point Graph')\n",
        "plt.xlabel('Number of Clusters')\n",
        "plt.ylabel('WCSS')\n",
        "plt.show()"
      ],
      "execution_count": 18,
      "outputs": [
        {
          "output_type": "display_data",
          "data": {
            "image/png": "[encoded data removed]",
            "text/plain": [
              "<Figure size 432x288 with 1 Axes>"
            ]
          },
          "metadata": {
            "tags": []
          }
        }
      ]
    },
    {
      "cell_type": "markdown",
      "metadata": {
        "id": "d7_up0wO9PSg"
      },
      "source": [
        "Optimum Number of Clusters : 4\n",
        "Training the K Means Model"
      ]
    },
    {
      "cell_type": "code",
      "metadata": {
        "colab": {
          "base_uri": "https://localhost:8080/"
        },
        "id": "Dm2_sV8W9Ui3",
        "outputId": "cdd1e424-80c0-43bd-c377-ce332414a2e1"
      },
      "source": [
        "kmeans = KMeans(n_clusters=4, init='k-means++', random_state=0)\n",
        "\n",
        "# return a label for each data point based on their cluster\n",
        "Y = kmeans.fit_predict(X)\n",
        "\n",
        "print(Y)"
      ],
      "execution_count": 19,
      "outputs": [
        {
          "output_type": "stream",
          "text": [
            "[0 1 2 1 0 1 2 1 2 1 2 1 2 1 2 1 0 0 2 1 0 1 2 1 2 1 2 0 2 1 2 1 2 1 2 1 2\n",
            " 1 2 1 3 1 3 0 2 0 3 0 0 0 3 0 0 3 3 3 3 3 0 3 3 0 3 3 3 0 3 3 0 0 3 3 3 3\n",
            " 3 0 3 0 0 3 3 0 3 3 0 3 3 0 0 3 3 0 3 0 0 0 3 0 3 0 0 3 3 0 3 0 3 3 3 3 3\n",
            " 0 0 0 0 0 3 3 3 3 0 0 0 1 0 1 3 1 2 1 2 1 0 1 2 1 2 1 2 1 2 1 0 1 2 1 3 1\n",
            " 2 1 2 1 2 1 2 1 2 1 2 1 3 1 2 1 2 1 2 1 2 0 2 1 2 1 2 1 2 1 2 1 2 1 2 1 0\n",
            " 1 2 1 2 1 2 1 2 1 2 1 2 1 2 1]\n"
          ],
          "name": "stdout"
        }
      ]
    },
    {
      "cell_type": "code",
      "metadata": {
        "colab": {
          "base_uri": "https://localhost:8080/",
          "height": 518
        },
        "id": "UfIMUJvY-8oY",
        "outputId": "3dc0e144-0994-44cf-a3da-3f3a765f0b13"
      },
      "source": [
        "# plotting all the clusters and their Centroids\n",
        "\n",
        "plt.figure(figsize=(8,8))\n",
        "plt.scatter(X[Y==0,0], X[Y==0,1], s=50, c='green', label='Cluster 1')\n",
        "plt.scatter(X[Y==1,0], X[Y==1,1], s=50, c='red', label='Cluster 2')\n",
        "plt.scatter(X[Y==2,0], X[Y==2,1], s=50, c='yellow', label='Cluster 3')\n",
        "plt.scatter(X[Y==3,0], X[Y==3,1], s=50, c='violet', label='Cluster 4')\n",
        "\n",
        "# plot the centroids\n",
        "plt.scatter(kmeans.cluster_centers_[:,0], kmeans.cluster_centers_[:,1], s=100, c='cyan', label='Centroids')\n",
        "\n",
        "plt.title('Customer Groups')\n",
        "plt.xlabel('Age Group')\n",
        "plt.ylabel('Spending Score')\n",
        "plt.show()"
      ],
      "execution_count": 20,
      "outputs": [
        {
          "output_type": "display_data",
          "data": {
            "image/png": "[encoded data removed]",
            "text/plain": [
              "<Figure size 576x576 with 1 Axes>"
            ]
          },
          "metadata": {
            "tags": []
          }
        }
      ]
    }
  ]
}